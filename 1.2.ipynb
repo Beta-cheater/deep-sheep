{
 "cells": [
  {
   "cell_type": "code",
   "execution_count": 1,
   "id": "816bbd67",
   "metadata": {},
   "outputs": [],
   "source": [
    "cherry = [0,0,1,1,0]\n",
    "orange = [0,1,0,0,1]\n",
    "apple  = [1,0,1,0,1]\n",
    "melon  = [1,0,0,0,1]"
   ]
  },
  {
   "cell_type": "code",
   "execution_count": 2,
   "id": "f60dea17",
   "metadata": {},
   "outputs": [],
   "source": [
    "def Evklid(x1,x2):\n",
    "    result = 0\n",
    "    for i in range(len(x1)):\n",
    "        result = result+(x1[i]-x2[i])**2\n",
    "        result = result**(1/2)\n",
    "    print(result)\n",
    "    return result"
   ]
  },
  {
   "cell_type": "code",
   "execution_count": 3,
   "id": "6f3d8847",
   "metadata": {},
   "outputs": [],
   "source": [
    "def Minkov(x1,x2):\n",
    "    result = 0\n",
    "    for i in range(len(x1)):\n",
    "        result = result+(x1[i]-x2[i])**3\n",
    "        result = (abs(result))**(1/3)\n",
    "    print(result)\n",
    "    return result"
   ]
  },
  {
   "cell_type": "code",
   "execution_count": 4,
   "id": "3ce08a06",
   "metadata": {},
   "outputs": [],
   "source": [
    "def Modul(x1,x2):\n",
    "    result = 0\n",
    "    for i in range(len(x1)):\n",
    "        result = result+(abs(x1[i]-x2[i]))\n",
    "    print(result)\n",
    "    return result"
   ]
  },
  {
   "cell_type": "code",
   "execution_count": 5,
   "id": "bf8b3954",
   "metadata": {},
   "outputs": [
    {
     "name": "stdout",
     "output_type": "stream",
     "text": [
      "1.5980531824786175\n",
      "1.1164697500474103\n",
      "1.0\n",
      "1.5980531824786175\n",
      "0.6784551410961688\n",
      "0.9513218268935655\n",
      "1.0\n",
      "1.2599210498948732\n",
      "4\n",
      "3\n",
      "1\n",
      "4\n"
     ]
    },
    {
     "data": {
      "text/plain": [
       "4"
      ]
     },
     "execution_count": 5,
     "metadata": {},
     "output_type": "execute_result"
    }
   ],
   "source": [
    "Evklid(cherry,orange)\n",
    "Evklid(orange,apple)\n",
    "Evklid(apple,melon)\n",
    "Evklid(melon,cherry)\n",
    "\n",
    "Minkov(cherry,orange)\n",
    "Minkov(orange,apple)\n",
    "Minkov(apple,melon)\n",
    "Minkov(melon,cherry)\n",
    "\n",
    "Modul(cherry,orange)\n",
    "Modul(orange,apple)\n",
    "Modul(apple,melon)\n",
    "Modul(melon,cherry)"
   ]
  },
  {
   "cell_type": "code",
   "execution_count": 11,
   "id": "8bee1638",
   "metadata": {},
   "outputs": [],
   "source": [
    "def abgh(x1,x2):\n",
    "    a = 0\n",
    "    b = 0\n",
    "    g = 0\n",
    "    h = 0\n",
    "    for i in range(len(x1)):\n",
    "        if (x1[i]==1 and x2[i]==1):\n",
    "            a+=1\n",
    "        elif (x1[i]==0 and x2[i]==1):\n",
    "            h+=1\n",
    "        elif (x1[i]==1 and x2[i]==0):\n",
    "            g+=1\n",
    "        elif (x1[i]==0 and x2[i]==0):\n",
    "            b+=1\n",
    "    result = [a,b,g,h]\n",
    "    return result"
   ]
  },
  {
   "cell_type": "code",
   "execution_count": 14,
   "id": "919de2b2",
   "metadata": {},
   "outputs": [
    {
     "name": "stdout",
     "output_type": "stream",
     "text": [
      "[0, 1, 2, 2]\n",
      "[1, 1, 1, 2]\n",
      "[2, 2, 1, 0]\n",
      "[0, 1, 2, 2]\n"
     ]
    }
   ],
   "source": [
    "cherry_orange = abgh(cherry,orange)\n",
    "orange_apple = abgh(orange,apple)\n",
    "apple_melon = abgh(apple,melon)\n",
    "melon_cherry = abgh(melon,cherry)\n",
    "print(cherry_orange)\n",
    "print(orange_apple)\n",
    "print(apple_melon)\n",
    "print(melon_cherry)"
   ]
  },
  {
   "cell_type": "code",
   "execution_count": 19,
   "id": "1f136696",
   "metadata": {},
   "outputs": [],
   "source": [
    "def s1_7(fruits):\n",
    "    a1 = fruits[0]\n",
    "    b1 = fruits[1]\n",
    "    g1 = fruits[2]\n",
    "    h1 = fruits[3]\n",
    "    n = (a1+b1+g1+h1)\n",
    "    s1 = a1/n\n",
    "    s2 = a1/(n-b1)\n",
    "    s3 = a1/(2*a1+g1+h1)\n",
    "    s4 = a1/(a1+2*(g1+h1))\n",
    "    s5 = (a1+b1)/n\n",
    "    s6 = a1/(g1+h1)\n",
    "    s7 = (a1*b1-g1*h1)/(a1*b1+g1*h1)\n",
    "    return s1,s2,s3,s4,s5,s6,s7"
   ]
  },
  {
   "cell_type": "code",
   "execution_count": 21,
   "id": "60813077",
   "metadata": {},
   "outputs": [
    {
     "name": "stdout",
     "output_type": "stream",
     "text": [
      "(0.0, 0.0, 0.0, 0.0, 0.2, 0.0, -1.0)\n",
      "(0.2, 0.25, 0.2, 0.14285714285714285, 0.4, 0.3333333333333333, -0.3333333333333333)\n",
      "(0.4, 0.6666666666666666, 0.4, 0.5, 0.8, 2.0, 1.0)\n",
      "(0.0, 0.0, 0.0, 0.0, 0.2, 0.0, -1.0)\n"
     ]
    }
   ],
   "source": [
    "print(s1_7(cherry_orange))\n",
    "print(s1_7(orange_apple))\n",
    "print(s1_7(apple_melon))\n",
    "print(s1_7(melon_cherry))"
   ]
  },
  {
   "cell_type": "code",
   "execution_count": 22,
   "id": "3ed666a5",
   "metadata": {},
   "outputs": [],
   "source": [
    "def heming(fruits):\n",
    "    g1 = fruits[2]\n",
    "    h1 = fruits[3]\n",
    "    hem = (g1+h1)\n",
    "    return hem"
   ]
  },
  {
   "cell_type": "code",
   "execution_count": 23,
   "id": "82ce421a",
   "metadata": {},
   "outputs": [
    {
     "name": "stdout",
     "output_type": "stream",
     "text": [
      "4\n",
      "3\n",
      "1\n",
      "4\n"
     ]
    }
   ],
   "source": [
    "print(heming(cherry_orange))\n",
    "print(heming(orange_apple))\n",
    "print(heming(apple_melon))\n",
    "print(heming(melon_cherry))"
   ]
  },
  {
   "cell_type": "code",
   "execution_count": null,
   "id": "a8c61626",
   "metadata": {},
   "outputs": [],
   "source": []
  }
 ],
 "metadata": {
  "kernelspec": {
   "display_name": "Python 3 (ipykernel)",
   "language": "python",
   "name": "python3"
  },
  "language_info": {
   "codemirror_mode": {
    "name": "ipython",
    "version": 3
   },
   "file_extension": ".py",
   "mimetype": "text/x-python",
   "name": "python",
   "nbconvert_exporter": "python",
   "pygments_lexer": "ipython3",
   "version": "3.9.7"
  }
 },
 "nbformat": 4,
 "nbformat_minor": 5
}
