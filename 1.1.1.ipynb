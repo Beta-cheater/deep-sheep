{
 "cells": [
  {
   "cell_type": "code",
   "execution_count": 1,
   "id": "b5599a3e",
   "metadata": {},
   "outputs": [
    {
     "name": "stdout",
     "output_type": "stream",
     "text": [
      "[-1, 0, 4, -12, 0.5] [10, -3, 0.5, 2, 3]\n",
      "[-11, 3, 3.5, -14, -2.5]\n"
     ]
    }
   ],
   "source": [
    "import random\n",
    "n = 6\n",
    "a_1 = [-1,0,4,-12,0.5]\n",
    "a_2 = [10,-3,0.5,2,3]\n",
    "# for i in range(n):\n",
    "#     a_1.append(random.randint(-10,10))\n",
    "#     a_2.append(random.randint(-10,10))\n",
    "print(a_1,a_2)\n",
    "\n",
    "\n",
    "lambda1 = 3\n",
    "\n",
    "waga = [0.2,0.5,1.4,1,1.1]\n",
    "\n",
    "\n",
    "riznucia = []\n",
    "for i in range(n):\n",
    "    riznucia.append(a_1[i]-a_2[i])\n",
    "print(riznucia)"
   ]
  },
  {
   "cell_type": "code",
   "execution_count": 2,
   "id": "066f419b",
   "metadata": {},
   "outputs": [
    {
     "name": "stdout",
     "output_type": "stream",
     "text": [
      "18.560711193270585\n"
     ]
    }
   ],
   "source": [
    "riznucia_2 = []\n",
    "for i in range(n):\n",
    "    riznucia_2.append(riznucia[i]**2)\n",
    "E_a1_a2 = (sum(riznucia_2))**(1/2)\n",
    "print(E_a1_a2)"
   ]
  },
  {
   "cell_type": "code",
   "execution_count": 3,
   "id": "8ac4f457",
   "metadata": {},
   "outputs": [
    {
     "name": "stdout",
     "output_type": "stream",
     "text": [
      "15.901412002287998\n"
     ]
    }
   ],
   "source": [
    "riznucia_lam = []\n",
    "for i in range(n):\n",
    "    riznucia_lam.append(riznucia[i]**lambda1)\n",
    "Minkovs_a1_a2 = abs((-sum(riznucia_lam))**(1/lambda1))\n",
    "print(Minkovs_a1_a2)"
   ]
  },
  {
   "cell_type": "code",
   "execution_count": 4,
   "id": "a66b823e",
   "metadata": {},
   "outputs": [
    {
     "name": "stdout",
     "output_type": "stream",
     "text": [
      "[11, 3, 3.5, 14, 2.5]\n",
      "34.0\n"
     ]
    }
   ],
   "source": [
    "riznucia_modul = []\n",
    "for i in range(n):\n",
    "    riznucia_modul.append(abs(riznucia[i]))\n",
    "print(riznucia_modul)\n",
    "summa_modul = sum(riznucia_modul)\n",
    "print(summa_modul)"
   ]
  },
  {
   "cell_type": "code",
   "execution_count": 5,
   "id": "85356633",
   "metadata": {},
   "outputs": [
    {
     "name": "stdout",
     "output_type": "stream",
     "text": [
      "15.77101772239192\n"
     ]
    }
   ],
   "source": [
    "L4 = 0\n",
    "for i in range(n):\n",
    "    L4 = L4 + riznucia_2[i]*waga[i]\n",
    "L4 = L4**(1/2)\n",
    "print(L4)"
   ]
  },
  {
   "cell_type": "code",
   "execution_count": 6,
   "id": "665fd68f",
   "metadata": {},
   "outputs": [
    {
     "name": "stdout",
     "output_type": "stream",
     "text": [
      "14.348178088208732\n"
     ]
    }
   ],
   "source": [
    "L5 = 0\n",
    "for i in range(n):\n",
    "    L5 = L5 + riznucia_lam[i]*waga[i]\n",
    "L5 = abs(L5)**(1/lambda1)\n",
    "print(L5)"
   ]
  },
  {
   "cell_type": "code",
   "execution_count": 7,
   "id": "09ee83ee",
   "metadata": {},
   "outputs": [
    {
     "name": "stdout",
     "output_type": "stream",
     "text": [
      "25.35\n"
     ]
    }
   ],
   "source": [
    "L6 = 0\n",
    "for i in range(n):\n",
    "    L6 = L6 + riznucia_modul[i]*waga[i]\n",
    "L6 = abs(L6)\n",
    "print(L6)"
   ]
  },
  {
   "cell_type": "code",
   "execution_count": 8,
   "id": "8ae142fa",
   "metadata": {},
   "outputs": [
    {
     "name": "stdout",
     "output_type": "stream",
     "text": [
      "[9, -3, 4.5, -10, 3.5]\n"
     ]
    }
   ],
   "source": [
    "summa = []\n",
    "for i in range(n):\n",
    "    summa.append(a_1[i]+a_2[i])\n",
    "print(summa)"
   ]
  },
  {
   "cell_type": "code",
   "execution_count": 9,
   "id": "1076c40c",
   "metadata": {},
   "outputs": [
    {
     "name": "stdout",
     "output_type": "stream",
     "text": [
      "[9, 3, 4.5, 10, 3.5]\n"
     ]
    }
   ],
   "source": [
    "modul_summa = []\n",
    "for i in range(n):\n",
    "    modul_summa.append(abs(summa[i]))\n",
    "print(modul_summa)"
   ]
  },
  {
   "cell_type": "code",
   "execution_count": 10,
   "id": "92002bb4",
   "metadata": {},
   "outputs": [
    {
     "name": "stdout",
     "output_type": "stream",
     "text": [
      "[1.2222222222222223, 1.0, 0.7777777777777778, 1.4, 0.7142857142857143]\n"
     ]
    }
   ],
   "source": [
    "chastka = []\n",
    "for i in range(n):\n",
    "    if (modul_summa[i]!=0):\n",
    "        chastka.append(riznucia_modul[i]/modul_summa[i])\n",
    "    else:\n",
    "        chastka.append(riznucia_modul[i]/0.000000000000000000001)\n",
    "print(chastka)"
   ]
  },
  {
   "cell_type": "code",
   "execution_count": 11,
   "id": "2836c494",
   "metadata": {},
   "outputs": [
    {
     "name": "stdout",
     "output_type": "stream",
     "text": [
      "5.114285714285715\n"
     ]
    }
   ],
   "source": [
    "L7 = 0\n",
    "L7 = sum(chastka)\n",
    "print(L7)"
   ]
  },
  {
   "cell_type": "code",
   "execution_count": 12,
   "id": "557aebb5",
   "metadata": {},
   "outputs": [
    {
     "name": "stdout",
     "output_type": "stream",
     "text": [
      "14\n"
     ]
    }
   ],
   "source": [
    "L9 = max(riznucia_modul)\n",
    "print(L9)"
   ]
  },
  {
   "cell_type": "code",
   "execution_count": null,
   "id": "69dcfcc6",
   "metadata": {},
   "outputs": [],
   "source": []
  }
 ],
 "metadata": {
  "kernelspec": {
   "display_name": "Python 3 (ipykernel)",
   "language": "python",
   "name": "python3"
  },
  "language_info": {
   "codemirror_mode": {
    "name": "ipython",
    "version": 3
   },
   "file_extension": ".py",
   "mimetype": "text/x-python",
   "name": "python",
   "nbconvert_exporter": "python",
   "pygments_lexer": "ipython3",
   "version": "3.9.7"
  }
 },
 "nbformat": 4,
 "nbformat_minor": 5
}
